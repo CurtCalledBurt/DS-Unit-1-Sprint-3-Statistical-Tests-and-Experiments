{
  "nbformat": 4,
  "nbformat_minor": 0,
  "metadata": {
    "colab": {
      "name": "LS_DS_133_Introduction_to_Bayesian_Inference_Assignment.ipynb",
      "provenance": [],
      "include_colab_link": true
    },
    "kernelspec": {
      "name": "python3",
      "display_name": "Python 3"
    }
  },
  "cells": [
    {
      "cell_type": "markdown",
      "metadata": {
        "id": "view-in-github",
        "colab_type": "text"
      },
      "source": [
        "<a href=\"https://colab.research.google.com/github/CurtCalledBurt/DS-Unit-1-Sprint-3-Statistical-Tests-and-Experiments/blob/master/module3-introduction-to-bayesian-inference/LS_DS_133_Introduction_to_Bayesian_Inference_Assignment.ipynb\" target=\"_parent\"><img src=\"https://colab.research.google.com/assets/colab-badge.svg\" alt=\"Open In Colab\"/></a>"
      ]
    },
    {
      "cell_type": "markdown",
      "metadata": {
        "id": "H7OLbevlbd_Z",
        "colab_type": "text"
      },
      "source": [
        "# Lambda School Data Science Module 133\n",
        "\n",
        "## Introduction to Bayesian Inference\n",
        "\n",
        "\n"
      ]
    },
    {
      "cell_type": "markdown",
      "metadata": {
        "id": "P-DzzRk5bf0z",
        "colab_type": "text"
      },
      "source": [
        "## Assignment - Code it up!\n",
        "\n",
        "Most of the above was pure math - now write Python code to reproduce the results! This is purposefully open ended - you'll have to think about how you should represent probabilities and events. You can and should look things up, and as a stretch goal - refactor your code into helpful reusable functions!\n",
        "\n",
        "Specific goals/targets:\n",
        "\n",
        "1. Write a function `def prob_drunk_given_positive(prob_drunk_prior, prob_positive, prob_positive_drunk)` that reproduces the example from lecture, and use it to calculate and visualize a range of situations\n",
        "2. Explore `scipy.stats.bayes_mvs` - read its documentation, and experiment with it on data you've tested in other ways earlier this week\n",
        "3. Create a visualization comparing the results of a Bayesian approach to a traditional/frequentist approach\n",
        "4. In your own words, summarize the difference between Bayesian and Frequentist statistics\n",
        "\n",
        "If you're unsure where to start, check out [this blog post of Bayes theorem with Python](https://dataconomy.com/2015/02/introduction-to-bayes-theorem-with-python/) - you could and should create something similar!\n",
        "\n",
        "Stretch goals:\n",
        "\n",
        "- Apply a Bayesian technique to a problem you previously worked (in an assignment or project work) on from a frequentist (standard) perspective\n",
        "- Check out [PyMC3](https://docs.pymc.io/) (note this goes beyond hypothesis tests into modeling) - read the guides and work through some examples\n",
        "- Take PyMC3 further - see if you can build something with it!"
      ]
    },
    {
      "cell_type": "code",
      "metadata": {
        "id": "xpVhZyUnbf7o",
        "colab_type": "code",
        "colab": {}
      },
      "source": [
        "import pandas as pd\n",
        "import numpy as np\n",
        "import matplotlib.pyplot as plt\n",
        "import seaborn as sns"
      ],
      "execution_count": 0,
      "outputs": []
    },
    {
      "cell_type": "code",
      "metadata": {
        "id": "mA3rGfcn0Mht",
        "colab_type": "code",
        "colab": {}
      },
      "source": [
        "#decided to try my hand at recursion because I'm a dummy... but I think it works\n",
        "\n",
        "def prob_drunk_given_positive(prob_drunk_prior, \n",
        "                              prob_positive, \n",
        "                              prob_positive_given_drunk, \n",
        "                              iterations):\n",
        "  if iterations == 1: #allows have a way out of the loop\n",
        "    return prob_positive_given_drunk * prob_drunk_prior / prob_positive\n",
        "  else:\n",
        "    iterations = iterations - 1  #this lowers iterations until it hits 1\n",
        "    prob_drunk_prior = prob_drunk_given_positive(prob_drunk_prior, prob_positive, \n",
        "                                                 prob_positive_given_drunk, \n",
        "                                                 iterations)\n",
        "    return prob_positive_given_drunk * prob_drunk_prior / prob_positive"
      ],
      "execution_count": 0,
      "outputs": []
    },
    {
      "cell_type": "code",
      "metadata": {
        "id": "22OqYOOp1Xi-",
        "colab_type": "code",
        "colab": {
          "base_uri": "https://localhost:8080/",
          "height": 34
        },
        "outputId": "98accfa9-1524-44d7-cb66-d87b5e4bd6e9"
      },
      "source": [
        "prob = prob_drunk_given_positive(1/1000, .08, 1, 1)\n",
        "print(prob)"
      ],
      "execution_count": 3,
      "outputs": [
        {
          "output_type": "stream",
          "text": [
            "0.0125\n"
          ],
          "name": "stdout"
        }
      ]
    },
    {
      "cell_type": "code",
      "metadata": {
        "id": "80E1C_6u7iQ4",
        "colab_type": "code",
        "colab": {
          "base_uri": "https://localhost:8080/",
          "height": 185
        },
        "outputId": "151c11e9-c5b7-4042-e9c1-e7c0d252bac1"
      },
      "source": [
        "for i in range(10):\n",
        "  prob = prob_drunk_given_positive(1/1000, .08, 1, i+1)\n",
        "  print(\"Probablity of DUI after \", i+1, \"Tests is: \", prob)"
      ],
      "execution_count": 4,
      "outputs": [
        {
          "output_type": "stream",
          "text": [
            "Probablity of DUI after  1 Tests is:  0.0125\n",
            "Probablity of DUI after  2 Tests is:  0.15625\n",
            "Probablity of DUI after  3 Tests is:  1.953125\n",
            "Probablity of DUI after  4 Tests is:  24.4140625\n",
            "Probablity of DUI after  5 Tests is:  305.17578125\n",
            "Probablity of DUI after  6 Tests is:  3814.697265625\n",
            "Probablity of DUI after  7 Tests is:  47683.7158203125\n",
            "Probablity of DUI after  8 Tests is:  596046.4477539062\n",
            "Probablity of DUI after  9 Tests is:  7450580.596923828\n",
            "Probablity of DUI after  10 Tests is:  93132257.46154785\n"
          ],
          "name": "stdout"
        }
      ]
    },
    {
      "cell_type": "markdown",
      "metadata": {
        "id": "PcCcY38eFDte",
        "colab_type": "text"
      },
      "source": [
        "OOOOOOKKKKKKAAAAAAAY the greater than 1.00 numbers are HIGHLY suspicious, and most likely indicitive that this recursion is broken. But it does work for the first iteration."
      ]
    },
    {
      "cell_type": "code",
      "metadata": {
        "id": "Ie-Alfxm8PjF",
        "colab_type": "code",
        "colab": {
          "base_uri": "https://localhost:8080/",
          "height": 34
        },
        "outputId": "aaa866ed-efc9-408c-aa2e-a8f9bc05688b"
      },
      "source": [
        "prob_drunk = prob_drunk_given_positive(1/1000, .08, 1, 1)\n",
        "prob_drunk"
      ],
      "execution_count": 6,
      "outputs": [
        {
          "output_type": "execute_result",
          "data": {
            "text/plain": [
              "0.0125"
            ]
          },
          "metadata": {
            "tags": []
          },
          "execution_count": 6
        }
      ]
    },
    {
      "cell_type": "code",
      "metadata": {
        "id": "_vIjQUZu8gk6",
        "colab_type": "code",
        "colab": {
          "base_uri": "https://localhost:8080/",
          "height": 34
        },
        "outputId": "3cd50408-8e4c-487a-8db0-c45d3846e819"
      },
      "source": [
        "prob_drunk = prob_drunk_given_positive(prob_drunk, .08, 1, 1)\n",
        "prob_drunk"
      ],
      "execution_count": 7,
      "outputs": [
        {
          "output_type": "execute_result",
          "data": {
            "text/plain": [
              "0.15625"
            ]
          },
          "metadata": {
            "tags": []
          },
          "execution_count": 7
        }
      ]
    },
    {
      "cell_type": "markdown",
      "metadata": {
        "id": "O_7d_VmcFKNc",
        "colab_type": "text"
      },
      "source": [
        "Hmm. Okay, so my recursion is working as intended. It's just breaking statistics now. Great."
      ]
    },
    {
      "cell_type": "code",
      "metadata": {
        "id": "tYO-lFaD85dv",
        "colab_type": "code",
        "colab": {}
      },
      "source": [
        "def non_recursive_func(prob_drunk_prior, \n",
        "                              prob_positive, \n",
        "                              prob_positive_given_drunk):\n",
        "  return prob_positive_given_drunk * prob_drunk_prior / prob_positive"
      ],
      "execution_count": 0,
      "outputs": []
    },
    {
      "cell_type": "code",
      "metadata": {
        "id": "OUSDTP5h9Fnv",
        "colab_type": "code",
        "colab": {
          "base_uri": "https://localhost:8080/",
          "height": 34
        },
        "outputId": "3ec454c4-b9e2-44f6-b89d-83e768cb496c"
      },
      "source": [
        "prob_drunk = non_recursive_func(1/1000, .08, 1)\n",
        "prob_drunk"
      ],
      "execution_count": 10,
      "outputs": [
        {
          "output_type": "execute_result",
          "data": {
            "text/plain": [
              "0.0125"
            ]
          },
          "metadata": {
            "tags": []
          },
          "execution_count": 10
        }
      ]
    },
    {
      "cell_type": "code",
      "metadata": {
        "id": "Wbug6nXT9P72",
        "colab_type": "code",
        "colab": {
          "base_uri": "https://localhost:8080/",
          "height": 34
        },
        "outputId": "a4b0810f-f5b4-407c-e2ab-dedd8e3a9ff5"
      },
      "source": [
        "prob_drunk = non_recursive_func(prob_drunk, .08, 1)\n",
        "prob_drunk"
      ],
      "execution_count": 11,
      "outputs": [
        {
          "output_type": "execute_result",
          "data": {
            "text/plain": [
              "0.15625"
            ]
          },
          "metadata": {
            "tags": []
          },
          "execution_count": 11
        }
      ]
    },
    {
      "cell_type": "markdown",
      "metadata": {
        "id": "cUfCqs52E126",
        "colab_type": "text"
      },
      "source": [
        "Okay so the recursion wasn't the problem. Must be a fault in how \n",
        "I'm applying the formula I'm using. Or maybe the formula used in \n",
        "lecture for this part is incomplete, I remember\n",
        "ryan saying something about the version used wasn't quite right."
      ]
    },
    {
      "cell_type": "code",
      "metadata": {
        "id": "_5znsRxQ9tVm",
        "colab_type": "code",
        "colab": {
          "base_uri": "https://localhost:8080/",
          "height": 34
        },
        "outputId": "e08bb9bf-d3ae-4efb-dfde-c15fe577f3e9"
      },
      "source": [
        "#I'm just going to use the formula from the drug example\n",
        "#on the drunk example, do it by \"hand\", and see if we get .0125\n",
        "1 * 1/1000 / (1 * 1/1000 + .08 * 999/1000) "
      ],
      "execution_count": 13,
      "outputs": [
        {
          "output_type": "execute_result",
          "data": {
            "text/plain": [
              "0.012357884330202669"
            ]
          },
          "metadata": {
            "tags": []
          },
          "execution_count": 13
        }
      ]
    },
    {
      "cell_type": "markdown",
      "metadata": {
        "id": "O3QCF5rQE_Vc",
        "colab_type": "text"
      },
      "source": [
        "AH HA! the formula the drunk section of lecture was using\n",
        "WAS missing stuff!"
      ]
    },
    {
      "cell_type": "code",
      "metadata": {
        "id": "8iopXDoV9thG",
        "colab_type": "code",
        "colab": {}
      },
      "source": [
        "# p_positive_g_drunk * p_drunk /\n",
        "# (p_positive_g_drunk * p_drunk + p_positive_g_sober * p_sober)"
      ],
      "execution_count": 0,
      "outputs": []
    },
    {
      "cell_type": "code",
      "metadata": {
        "id": "m_d9BBAr9tq-",
        "colab_type": "code",
        "colab": {}
      },
      "source": [
        "def non_recursive(p_drunk, \n",
        "                       p_positive_g_sober, \n",
        "                       p_positive_g_drunk):\n",
        "  p_sober = 1 - p_drunk\n",
        "  return p_positive_g_drunk * p_drunk / (p_positive_g_drunk * p_drunk + p_positive_g_sober * p_sober)"
      ],
      "execution_count": 0,
      "outputs": []
    },
    {
      "cell_type": "code",
      "metadata": {
        "id": "i16Lj3-X9t0j",
        "colab_type": "code",
        "colab": {
          "base_uri": "https://localhost:8080/",
          "height": 34
        },
        "outputId": "7921ff92-7e7c-4092-d874-b61ab86f8069"
      },
      "source": [
        "non_recursive(1/1000, .08, 1)"
      ],
      "execution_count": 25,
      "outputs": [
        {
          "output_type": "execute_result",
          "data": {
            "text/plain": [
              "0.012357884330202669"
            ]
          },
          "metadata": {
            "tags": []
          },
          "execution_count": 25
        }
      ]
    },
    {
      "cell_type": "markdown",
      "metadata": {
        "id": "k6YYhmE9EyOC",
        "colab_type": "text"
      },
      "source": [
        "Looks good."
      ]
    },
    {
      "cell_type": "code",
      "metadata": {
        "id": "PzAFhl_k9uHY",
        "colab_type": "code",
        "colab": {}
      },
      "source": [
        "def p_drunk_g_positive(p_drunk, \n",
        "                       p_positive_g_sober, \n",
        "                       p_positive_g_drunk, \n",
        "                       iterations):\n",
        "  \n",
        "  if iterations == 1:\n",
        "    p_sober = 1 - p_drunk\n",
        "    return p_positive_g_drunk * p_drunk / (p_positive_g_drunk * p_drunk + p_positive_g_sober * p_sober)\n",
        "  \n",
        "  else:\n",
        "    p_sober = 1 - p_drunk\n",
        "    p_drunk = p_drunk_g_positive(p_drunk, \n",
        "                                 p_positive_g_sober, \n",
        "                                 p_positive_g_drunk, \n",
        "                                 iterations - 1)\n",
        "    p_sober = 1 - p_drunk\n",
        "    return (p_positive_g_drunk * p_drunk) / (p_positive_g_drunk * p_drunk + p_positive_g_sober * p_sober)"
      ],
      "execution_count": 0,
      "outputs": []
    },
    {
      "cell_type": "code",
      "metadata": {
        "id": "DA_d96ArBWm_",
        "colab_type": "code",
        "colab": {
          "base_uri": "https://localhost:8080/",
          "height": 34
        },
        "outputId": "90abdfb0-e88c-45c4-9122-0f966def2db4"
      },
      "source": [
        "p_drunk_g_positive(1/1000, .08, 1, 1)"
      ],
      "execution_count": 34,
      "outputs": [
        {
          "output_type": "execute_result",
          "data": {
            "text/plain": [
              "0.012357884330202669"
            ]
          },
          "metadata": {
            "tags": []
          },
          "execution_count": 34
        }
      ]
    },
    {
      "cell_type": "code",
      "metadata": {
        "id": "ePl4TmpYBWx2",
        "colab_type": "code",
        "colab": {
          "base_uri": "https://localhost:8080/",
          "height": 185
        },
        "outputId": "5c655190-de2d-4118-8d8e-fe375ca85f85"
      },
      "source": [
        "for i in range(10):\n",
        "  prob = p_drunk_g_positive(1/1000, .08, 1, i+1)\n",
        "  print(\"Certainty of DUI after \", i+1, \"Tests is: \", prob*100,'%')"
      ],
      "execution_count": 36,
      "outputs": [
        {
          "output_type": "stream",
          "text": [
            "Certainty of DUI after  1 Tests is:  1.2357884330202669 %\n",
            "Certainty of DUI after  2 Tests is:  13.525210993291495 %\n",
            "Certainty of DUI after  3 Tests is:  66.15996951348605 %\n",
            "Certainty of DUI after  4 Tests is:  96.06895076105054 %\n",
            "Certainty of DUI after  5 Tests is:  99.67371577896735 %\n",
            "Certainty of DUI after  6 Tests is:  99.97381867081508 %\n",
            "Certainty of DUI after  7 Tests is:  99.99790498904363 %\n",
            "Certainty of DUI after  8 Tests is:  99.99983239589308 %\n",
            "Certainty of DUI after  9 Tests is:  99.99998659165077 %\n",
            "Certainty of DUI after  10 Tests is:  99.99999892733193 %\n"
          ],
          "name": "stdout"
        }
      ]
    },
    {
      "cell_type": "markdown",
      "metadata": {
        "id": "Edqsq8fSFmBt",
        "colab_type": "text"
      },
      "source": [
        "And there we go. Problems all seem sorted. \\\\\n",
        "Given how many false positives this test puts out, it makes sense that it takes 4-5 times before we become very, very sure that someone is drunk"
      ]
    },
    {
      "cell_type": "code",
      "metadata": {
        "id": "ulrSveyAFmUK",
        "colab_type": "code",
        "colab": {
          "base_uri": "https://localhost:8080/",
          "height": 70
        },
        "outputId": "e3121321-3c29-4a4a-e743-01bb90968900"
      },
      "source": [
        "data = []\n",
        "index = []\n",
        "for i in range(10):\n",
        "  prob = p_drunk_g_positive(1/1000, .08, 1, i+1)\n",
        "  data.append(prob)\n",
        "  index.append(i + 1)\n",
        "print(data, '\\n', index)"
      ],
      "execution_count": 41,
      "outputs": [
        {
          "output_type": "stream",
          "text": [
            "[0.012357884330202669, 0.13525210993291495, 0.6615996951348605, 0.9606895076105054, 0.9967371577896734, 0.9997381867081508, 0.9999790498904363, 0.9999983239589307, 0.9999998659165077, 0.9999999892733192] \n",
            " [1, 2, 3, 4, 5, 6, 7, 8, 9, 10]\n"
          ],
          "name": "stdout"
        }
      ]
    },
    {
      "cell_type": "code",
      "metadata": {
        "id": "6Koet146FpAk",
        "colab_type": "code",
        "colab": {
          "base_uri": "https://localhost:8080/",
          "height": 343
        },
        "outputId": "4b8e85cf-16de-45f4-ceab-2ea597a82136"
      },
      "source": [
        "df = pd.DataFrame({'consecutive_pos_tests': index, 'dui_probability': data})\n",
        "df"
      ],
      "execution_count": 42,
      "outputs": [
        {
          "output_type": "execute_result",
          "data": {
            "text/html": [
              "<div>\n",
              "<style scoped>\n",
              "    .dataframe tbody tr th:only-of-type {\n",
              "        vertical-align: middle;\n",
              "    }\n",
              "\n",
              "    .dataframe tbody tr th {\n",
              "        vertical-align: top;\n",
              "    }\n",
              "\n",
              "    .dataframe thead th {\n",
              "        text-align: right;\n",
              "    }\n",
              "</style>\n",
              "<table border=\"1\" class=\"dataframe\">\n",
              "  <thead>\n",
              "    <tr style=\"text-align: right;\">\n",
              "      <th></th>\n",
              "      <th>consecutive_pos_tests</th>\n",
              "      <th>dui_probability</th>\n",
              "    </tr>\n",
              "  </thead>\n",
              "  <tbody>\n",
              "    <tr>\n",
              "      <th>0</th>\n",
              "      <td>1</td>\n",
              "      <td>0.012358</td>\n",
              "    </tr>\n",
              "    <tr>\n",
              "      <th>1</th>\n",
              "      <td>2</td>\n",
              "      <td>0.135252</td>\n",
              "    </tr>\n",
              "    <tr>\n",
              "      <th>2</th>\n",
              "      <td>3</td>\n",
              "      <td>0.661600</td>\n",
              "    </tr>\n",
              "    <tr>\n",
              "      <th>3</th>\n",
              "      <td>4</td>\n",
              "      <td>0.960690</td>\n",
              "    </tr>\n",
              "    <tr>\n",
              "      <th>4</th>\n",
              "      <td>5</td>\n",
              "      <td>0.996737</td>\n",
              "    </tr>\n",
              "    <tr>\n",
              "      <th>5</th>\n",
              "      <td>6</td>\n",
              "      <td>0.999738</td>\n",
              "    </tr>\n",
              "    <tr>\n",
              "      <th>6</th>\n",
              "      <td>7</td>\n",
              "      <td>0.999979</td>\n",
              "    </tr>\n",
              "    <tr>\n",
              "      <th>7</th>\n",
              "      <td>8</td>\n",
              "      <td>0.999998</td>\n",
              "    </tr>\n",
              "    <tr>\n",
              "      <th>8</th>\n",
              "      <td>9</td>\n",
              "      <td>1.000000</td>\n",
              "    </tr>\n",
              "    <tr>\n",
              "      <th>9</th>\n",
              "      <td>10</td>\n",
              "      <td>1.000000</td>\n",
              "    </tr>\n",
              "  </tbody>\n",
              "</table>\n",
              "</div>"
            ],
            "text/plain": [
              "   consecutive_pos_tests  dui_probability\n",
              "0                      1         0.012358\n",
              "1                      2         0.135252\n",
              "2                      3         0.661600\n",
              "3                      4         0.960690\n",
              "4                      5         0.996737\n",
              "5                      6         0.999738\n",
              "6                      7         0.999979\n",
              "7                      8         0.999998\n",
              "8                      9         1.000000\n",
              "9                     10         1.000000"
            ]
          },
          "metadata": {
            "tags": []
          },
          "execution_count": 42
        }
      ]
    },
    {
      "cell_type": "code",
      "metadata": {
        "id": "F5sg8qf-JJ8s",
        "colab_type": "code",
        "colab": {
          "base_uri": "https://localhost:8080/",
          "height": 67
        },
        "outputId": "3028d25d-db9f-449f-f201-756a29954c77"
      },
      "source": [
        "df.dtypes"
      ],
      "execution_count": 46,
      "outputs": [
        {
          "output_type": "execute_result",
          "data": {
            "text/plain": [
              "consecutive_pos_tests      int64\n",
              "dui_probability          float64\n",
              "dtype: object"
            ]
          },
          "metadata": {
            "tags": []
          },
          "execution_count": 46
        }
      ]
    },
    {
      "cell_type": "code",
      "metadata": {
        "id": "Fe-V9o4uFpJ_",
        "colab_type": "code",
        "colab": {
          "base_uri": "https://localhost:8080/",
          "height": 300
        },
        "outputId": "90a5f27a-ccd3-44c5-e9f8-205458011794"
      },
      "source": [
        "plt.plot(df['consecutive_pos_tests'], \n",
        "         df['dui_probability']*100, \n",
        "         linestyle='--', \n",
        "         marker='o')\n",
        "plt.xlabel('Number of Consective Positive Tests')\n",
        "plt.ylabel('Percent Chance the Person is Drunk ')"
      ],
      "execution_count": 67,
      "outputs": [
        {
          "output_type": "execute_result",
          "data": {
            "text/plain": [
              "Text(0, 0.5, 'Percent Chance the Person is Drunk ')"
            ]
          },
          "metadata": {
            "tags": []
          },
          "execution_count": 67
        },
        {
          "output_type": "display_data",
          "data": {
            "image/png": "[encoded data removed]",
            "text/plain": [
              "<Figure size 432x288 with 1 Axes>"
            ]
          },
          "metadata": {
            "tags": []
          }
        }
      ]
    },
    {
      "cell_type": "code",
      "metadata": {
        "id": "xcM-UGlxPuhK",
        "colab_type": "code",
        "colab": {
          "base_uri": "https://localhost:8080/",
          "height": 249
        },
        "outputId": "f3d89947-541c-4722-ffe4-be7bc7c50336"
      },
      "source": [
        "#here we play a little with the politics data set with bayesian statistcs\n",
        "politics = pd.read_csv('https://archive.ics.uci.edu/ml/machine-learning-databases/voting-records/house-votes-84.data')\n",
        "bills = {\n",
        "    'republican': 'party',\n",
        "    'n': 'infants',\n",
        "    'y': 'cost-sharing',\n",
        "    'n.1': 'budget',\n",
        "    'y.1': 'fee-freeze',\n",
        "    'y.2': 'el-salvador',\n",
        "    'y.3': 'religion',\n",
        "    'n.2': 'test-ban',\n",
        "    'n.3': 'nicaraguan-contras', \n",
        "    'n.4': 'mx-missile', \n",
        "    'y.4': 'immigration', \n",
        "    '?': 'corporation-cutback', \n",
        "    'y.5': 'education', \n",
        "    'y.6': 'right-to-sue', \n",
        "    'y.7': 'crime', \n",
        "    'n.5': 'duty-free-exports', \n",
        "    'y.8': 'export-administration'\n",
        "}\n",
        "politics = politics.rename(columns = bills)\n",
        "politics = politics.replace({'y': 1, 'n': -1, '?': 0})\n",
        "politics.head()"
      ],
      "execution_count": 70,
      "outputs": [
        {
          "output_type": "execute_result",
          "data": {
            "text/html": [
              "<div>\n",
              "<style scoped>\n",
              "    .dataframe tbody tr th:only-of-type {\n",
              "        vertical-align: middle;\n",
              "    }\n",
              "\n",
              "    .dataframe tbody tr th {\n",
              "        vertical-align: top;\n",
              "    }\n",
              "\n",
              "    .dataframe thead th {\n",
              "        text-align: right;\n",
              "    }\n",
              "</style>\n",
              "<table border=\"1\" class=\"dataframe\">\n",
              "  <thead>\n",
              "    <tr style=\"text-align: right;\">\n",
              "      <th></th>\n",
              "      <th>party</th>\n",
              "      <th>infants</th>\n",
              "      <th>cost-sharing</th>\n",
              "      <th>budget</th>\n",
              "      <th>fee-freeze</th>\n",
              "      <th>el-salvador</th>\n",
              "      <th>religion</th>\n",
              "      <th>test-ban</th>\n",
              "      <th>nicaraguan-contras</th>\n",
              "      <th>mx-missile</th>\n",
              "      <th>immigration</th>\n",
              "      <th>corporation-cutback</th>\n",
              "      <th>education</th>\n",
              "      <th>right-to-sue</th>\n",
              "      <th>crime</th>\n",
              "      <th>duty-free-exports</th>\n",
              "      <th>export-administration</th>\n",
              "    </tr>\n",
              "  </thead>\n",
              "  <tbody>\n",
              "    <tr>\n",
              "      <th>0</th>\n",
              "      <td>republican</td>\n",
              "      <td>-1</td>\n",
              "      <td>1</td>\n",
              "      <td>-1</td>\n",
              "      <td>1</td>\n",
              "      <td>1</td>\n",
              "      <td>1</td>\n",
              "      <td>-1</td>\n",
              "      <td>-1</td>\n",
              "      <td>-1</td>\n",
              "      <td>-1</td>\n",
              "      <td>-1</td>\n",
              "      <td>1</td>\n",
              "      <td>1</td>\n",
              "      <td>1</td>\n",
              "      <td>-1</td>\n",
              "      <td>0</td>\n",
              "    </tr>\n",
              "    <tr>\n",
              "      <th>1</th>\n",
              "      <td>democrat</td>\n",
              "      <td>0</td>\n",
              "      <td>1</td>\n",
              "      <td>1</td>\n",
              "      <td>0</td>\n",
              "      <td>1</td>\n",
              "      <td>1</td>\n",
              "      <td>-1</td>\n",
              "      <td>-1</td>\n",
              "      <td>-1</td>\n",
              "      <td>-1</td>\n",
              "      <td>1</td>\n",
              "      <td>-1</td>\n",
              "      <td>1</td>\n",
              "      <td>1</td>\n",
              "      <td>-1</td>\n",
              "      <td>-1</td>\n",
              "    </tr>\n",
              "    <tr>\n",
              "      <th>2</th>\n",
              "      <td>democrat</td>\n",
              "      <td>-1</td>\n",
              "      <td>1</td>\n",
              "      <td>1</td>\n",
              "      <td>-1</td>\n",
              "      <td>0</td>\n",
              "      <td>1</td>\n",
              "      <td>-1</td>\n",
              "      <td>-1</td>\n",
              "      <td>-1</td>\n",
              "      <td>-1</td>\n",
              "      <td>1</td>\n",
              "      <td>-1</td>\n",
              "      <td>1</td>\n",
              "      <td>-1</td>\n",
              "      <td>-1</td>\n",
              "      <td>1</td>\n",
              "    </tr>\n",
              "    <tr>\n",
              "      <th>3</th>\n",
              "      <td>democrat</td>\n",
              "      <td>1</td>\n",
              "      <td>1</td>\n",
              "      <td>1</td>\n",
              "      <td>-1</td>\n",
              "      <td>1</td>\n",
              "      <td>1</td>\n",
              "      <td>-1</td>\n",
              "      <td>-1</td>\n",
              "      <td>-1</td>\n",
              "      <td>-1</td>\n",
              "      <td>1</td>\n",
              "      <td>0</td>\n",
              "      <td>1</td>\n",
              "      <td>1</td>\n",
              "      <td>1</td>\n",
              "      <td>1</td>\n",
              "    </tr>\n",
              "    <tr>\n",
              "      <th>4</th>\n",
              "      <td>democrat</td>\n",
              "      <td>-1</td>\n",
              "      <td>1</td>\n",
              "      <td>1</td>\n",
              "      <td>-1</td>\n",
              "      <td>1</td>\n",
              "      <td>1</td>\n",
              "      <td>-1</td>\n",
              "      <td>-1</td>\n",
              "      <td>-1</td>\n",
              "      <td>-1</td>\n",
              "      <td>-1</td>\n",
              "      <td>-1</td>\n",
              "      <td>1</td>\n",
              "      <td>1</td>\n",
              "      <td>1</td>\n",
              "      <td>1</td>\n",
              "    </tr>\n",
              "  </tbody>\n",
              "</table>\n",
              "</div>"
            ],
            "text/plain": [
              "        party  infants  ...  duty-free-exports  export-administration\n",
              "0  republican       -1  ...                 -1                      0\n",
              "1    democrat        0  ...                 -1                     -1\n",
              "2    democrat       -1  ...                 -1                      1\n",
              "3    democrat        1  ...                  1                      1\n",
              "4    democrat       -1  ...                  1                      1\n",
              "\n",
              "[5 rows x 17 columns]"
            ]
          },
          "metadata": {
            "tags": []
          },
          "execution_count": 70
        }
      ]
    },
    {
      "cell_type": "code",
      "metadata": {
        "id": "Ec68SaOZPurQ",
        "colab_type": "code",
        "colab": {}
      },
      "source": [
        "import scipy.stats as stats"
      ],
      "execution_count": 0,
      "outputs": []
    },
    {
      "cell_type": "code",
      "metadata": {
        "id": "PlHGLq4qVsBq",
        "colab_type": "code",
        "colab": {
          "base_uri": "https://localhost:8080/",
          "height": 34
        },
        "outputId": "6aca86bf-e959-4709-aaf3-e454abb1822a"
      },
      "source": [
        "conf_int, _, _ = stats.bayes_mvs(politics['cost-sharing'],.95)\n",
        "conf_int"
      ],
      "execution_count": 98,
      "outputs": [
        {
          "output_type": "execute_result",
          "data": {
            "text/plain": [
              "Mean(statistic=0.004608294930875576, minmax=(-0.0844682510421027, 0.09368484090385384))"
            ]
          },
          "metadata": {
            "tags": []
          },
          "execution_count": 98
        }
      ]
    },
    {
      "cell_type": "code",
      "metadata": {
        "id": "2wkTMxzGWvMd",
        "colab_type": "code",
        "colab": {
          "base_uri": "https://localhost:8080/",
          "height": 269
        },
        "outputId": "75abfcc9-0b43-47fe-a8ff-bbc76586056b"
      },
      "source": [
        "fig = plt.figure()\n",
        "ax = fig.add_subplot(111)\n",
        "ax.hist(politics['cost-sharing'], width = .05)\n",
        "ax.vlines(conf_int.statistic, ymin = 0, ymax = 200, colors='g')\n",
        "ax.vlines(conf_int[1][0], ymin = 0, ymax = 200, colors='r')\n",
        "ax.vlines(conf_int[1][1], ymin = 0, ymax = 200, colors='r')\n",
        "plt.xticks([-1,0,1])\n",
        "\n",
        "plt.show();"
      ],
      "execution_count": 123,
      "outputs": [
        {
          "output_type": "display_data",
          "data": {
            "image/png": "[encoded data removed]",
            "text/plain": [
              "<Figure size 432x288 with 1 Axes>"
            ]
          },
          "metadata": {
            "tags": []
          }
        }
      ]
    },
    {
      "cell_type": "code",
      "metadata": {
        "id": "2DP2bPN3Pu1h",
        "colab_type": "code",
        "colab": {}
      },
      "source": [
        "#frequentist statistician function\n",
        "def freq_dui (p_drunk_g_positive, iterations):\n",
        "  \n",
        "  return 1 - (1 - p_drunk_g_positive)**iterations"
      ],
      "execution_count": 0,
      "outputs": []
    },
    {
      "cell_type": "code",
      "metadata": {
        "id": "WgcU42ekPu_T",
        "colab_type": "code",
        "colab": {
          "base_uri": "https://localhost:8080/",
          "height": 34
        },
        "outputId": "5791c11a-c9a5-43e0-9a24-ec606eb4de3d"
      },
      "source": [
        "freq_dui(.92, 3)"
      ],
      "execution_count": 78,
      "outputs": [
        {
          "output_type": "execute_result",
          "data": {
            "text/plain": [
              "0.999488"
            ]
          },
          "metadata": {
            "tags": []
          },
          "execution_count": 78
        }
      ]
    },
    {
      "cell_type": "code",
      "metadata": {
        "id": "O0kMyY5wPvIl",
        "colab_type": "code",
        "colab": {
          "base_uri": "https://localhost:8080/",
          "height": 70
        },
        "outputId": "5e83e566-eacd-4cd3-ae61-dbb2f702048e"
      },
      "source": [
        "data2 = []\n",
        "index2 = []\n",
        "for i in range(10):\n",
        "  prob = freq_dui(.92, i+1)\n",
        "  data2.append(prob)\n",
        "  index2.append(i + 1)\n",
        "print(data2, '\\n', index2)"
      ],
      "execution_count": 80,
      "outputs": [
        {
          "output_type": "stream",
          "text": [
            "[0.92, 0.9936, 0.999488, 0.99995904, 0.9999967232, 0.999999737856, 0.99999997902848, 0.9999999983222784, 0.9999999998657823, 0.9999999999892626] \n",
            " [1, 2, 3, 4, 5, 6, 7, 8, 9, 10]\n"
          ],
          "name": "stdout"
        }
      ]
    },
    {
      "cell_type": "code",
      "metadata": {
        "id": "wwbQnKxpTk7w",
        "colab_type": "code",
        "colab": {
          "base_uri": "https://localhost:8080/",
          "height": 343
        },
        "outputId": "e44b6c36-4dfe-425e-9290-db1ad6f5298e"
      },
      "source": [
        "df2 = pd.DataFrame({'consecutive_pos_tests': index2, 'dui_probability': data2})\n",
        "df2"
      ],
      "execution_count": 82,
      "outputs": [
        {
          "output_type": "execute_result",
          "data": {
            "text/html": [
              "<div>\n",
              "<style scoped>\n",
              "    .dataframe tbody tr th:only-of-type {\n",
              "        vertical-align: middle;\n",
              "    }\n",
              "\n",
              "    .dataframe tbody tr th {\n",
              "        vertical-align: top;\n",
              "    }\n",
              "\n",
              "    .dataframe thead th {\n",
              "        text-align: right;\n",
              "    }\n",
              "</style>\n",
              "<table border=\"1\" class=\"dataframe\">\n",
              "  <thead>\n",
              "    <tr style=\"text-align: right;\">\n",
              "      <th></th>\n",
              "      <th>consecutive_pos_tests</th>\n",
              "      <th>dui_probability</th>\n",
              "    </tr>\n",
              "  </thead>\n",
              "  <tbody>\n",
              "    <tr>\n",
              "      <th>0</th>\n",
              "      <td>1</td>\n",
              "      <td>0.920000</td>\n",
              "    </tr>\n",
              "    <tr>\n",
              "      <th>1</th>\n",
              "      <td>2</td>\n",
              "      <td>0.993600</td>\n",
              "    </tr>\n",
              "    <tr>\n",
              "      <th>2</th>\n",
              "      <td>3</td>\n",
              "      <td>0.999488</td>\n",
              "    </tr>\n",
              "    <tr>\n",
              "      <th>3</th>\n",
              "      <td>4</td>\n",
              "      <td>0.999959</td>\n",
              "    </tr>\n",
              "    <tr>\n",
              "      <th>4</th>\n",
              "      <td>5</td>\n",
              "      <td>0.999997</td>\n",
              "    </tr>\n",
              "    <tr>\n",
              "      <th>5</th>\n",
              "      <td>6</td>\n",
              "      <td>1.000000</td>\n",
              "    </tr>\n",
              "    <tr>\n",
              "      <th>6</th>\n",
              "      <td>7</td>\n",
              "      <td>1.000000</td>\n",
              "    </tr>\n",
              "    <tr>\n",
              "      <th>7</th>\n",
              "      <td>8</td>\n",
              "      <td>1.000000</td>\n",
              "    </tr>\n",
              "    <tr>\n",
              "      <th>8</th>\n",
              "      <td>9</td>\n",
              "      <td>1.000000</td>\n",
              "    </tr>\n",
              "    <tr>\n",
              "      <th>9</th>\n",
              "      <td>10</td>\n",
              "      <td>1.000000</td>\n",
              "    </tr>\n",
              "  </tbody>\n",
              "</table>\n",
              "</div>"
            ],
            "text/plain": [
              "   consecutive_pos_tests  dui_probability\n",
              "0                      1         0.920000\n",
              "1                      2         0.993600\n",
              "2                      3         0.999488\n",
              "3                      4         0.999959\n",
              "4                      5         0.999997\n",
              "5                      6         1.000000\n",
              "6                      7         1.000000\n",
              "7                      8         1.000000\n",
              "8                      9         1.000000\n",
              "9                     10         1.000000"
            ]
          },
          "metadata": {
            "tags": []
          },
          "execution_count": 82
        }
      ]
    },
    {
      "cell_type": "code",
      "metadata": {
        "id": "Az4GVzGGT8SN",
        "colab_type": "code",
        "colab": {
          "base_uri": "https://localhost:8080/",
          "height": 269
        },
        "outputId": "049f1d4c-eb9f-4ea7-a70b-c79afbfb28a7"
      },
      "source": [
        "#graphing both the bayesian and the frequentist together\n",
        "plt.plot(df2['consecutive_pos_tests'], \n",
        "         df2['dui_probability']*100, \n",
        "         linestyle='--', \n",
        "         marker='o',\n",
        "         color = 'orange')\n",
        "\n",
        "plt.plot(df['consecutive_pos_tests'], \n",
        "         df['dui_probability']*100, \n",
        "         linestyle='--', \n",
        "         marker='o',\n",
        "         color = 'blue')\n",
        "\n",
        "plt.show();"
      ],
      "execution_count": 95,
      "outputs": [
        {
          "output_type": "display_data",
          "data": {
            "image/png": "[encoded data removed]",
            "text/plain": [
              "<Figure size 432x288 with 1 Axes>"
            ]
          },
          "metadata": {
            "tags": []
          }
        }
      ]
    },
    {
      "cell_type": "markdown",
      "metadata": {
        "id": "dan9aEEvY-kT",
        "colab_type": "text"
      },
      "source": [
        "The Frequentists only look at what data they currently have; they only look at what event just happened in a vacuum. Hence, if the drug test with a 92% sensitivity comes up positive they have no problem saying the person is 92% likely to be on the drug \\\\\n",
        "The Bayesians allow themselves to look at how likely their results are compared to other possible results. So, if the drug test comes up positive they look at how likely that is amongst all the possibilities where the test came up positive. "
      ]
    },
    {
      "cell_type": "markdown",
      "metadata": {
        "id": "uWgWjp3PQ3Sq",
        "colab_type": "text"
      },
      "source": [
        "## Resources"
      ]
    },
    {
      "cell_type": "markdown",
      "metadata": {
        "id": "QRgHqmYIQ9qn",
        "colab_type": "text"
      },
      "source": [
        "- [Worked example of Bayes rule calculation](https://en.wikipedia.org/wiki/Bayes'_theorem#Examples) (helpful as it fully breaks out the denominator)\n",
        "- [Source code for mvsdist in scipy](https://github.com/scipy/scipy/blob/90534919e139d2a81c24bf08341734ff41a3db12/scipy/stats/morestats.py#L139)"
      ]
    }
  ]
}